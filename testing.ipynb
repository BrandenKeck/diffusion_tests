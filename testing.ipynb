{
 "cells": [
  {
   "cell_type": "code",
   "execution_count": 1,
   "metadata": {},
   "outputs": [
    {
     "name": "stderr",
     "output_type": "stream",
     "text": [
      "A matching Triton is not available, some optimizations will not be enabled.\n",
      "Error caught was: No module named 'triton'\n"
     ]
    }
   ],
   "source": [
    "import torch\n",
    "import torch.nn.functional as F\n",
    "from torch.utils.data import DataLoader\n",
    "from accelerate import Accelerator\n",
    "from diffusers import UNet2DModel, DDPMScheduler, DDPMPipeline\n",
    "from diffusers.optimization import get_scheduler\n",
    "from torchvision.utils import save_image\n",
    "from torchvision.datasets import ImageFolder\n",
    "from torchvision.transforms import ToTensor, Compose, CenterCrop"
   ]
  },
  {
   "cell_type": "code",
   "execution_count": 2,
   "metadata": {},
   "outputs": [],
   "source": [
    "transform = Compose([\n",
    "    ToTensor(),\n",
    "    CenterCrop([128, 128])\n",
    "])\n",
    "dataset = ImageFolder(\"./data/pokemini\", transform=transform)\n",
    "dataloader = DataLoader(dataset, batch_size=10, shuffle=True, num_workers=0)"
   ]
  },
  {
   "cell_type": "code",
   "execution_count": 3,
   "metadata": {},
   "outputs": [],
   "source": [
    "model = UNet2DModel(\n",
    "sample_size=128,\n",
    "in_channels=3,\n",
    "out_channels=3,\n",
    "layers_per_block=2,\n",
    "block_out_channels=(128, 128, 256, 256, 512, 512),\n",
    "down_block_types=(\n",
    "\"DownBlock2D\", \"DownBlock2D\", \"DownBlock2D\", \"DownBlock2D\",\n",
    "\"AttnDownBlock2D\",  \"DownBlock2D\",\n",
    "),\n",
    "up_block_types=(\n",
    "\"UpBlock2D\", \"AttnUpBlock2D\",\n",
    "\"UpBlock2D\", \"UpBlock2D\", \"UpBlock2D\", \"UpBlock2D\",\n",
    "),\n",
    ")"
   ]
  },
  {
   "cell_type": "code",
   "execution_count": 4,
   "metadata": {},
   "outputs": [],
   "source": [
    "accelerator = Accelerator(\n",
    "    gradient_accumulation_steps=1,\n",
    "    mixed_precision=\"no\"\n",
    ")"
   ]
  },
  {
   "cell_type": "code",
   "execution_count": 5,
   "metadata": {},
   "outputs": [],
   "source": [
    "noise_scheduler = DDPMScheduler(\n",
    "    num_train_timesteps=1000\n",
    ")"
   ]
  },
  {
   "cell_type": "code",
   "execution_count": 6,
   "metadata": {},
   "outputs": [],
   "source": [
    "optimizer = torch.optim.AdamW(\n",
    "    model.parameters(), lr=1E-4,\n",
    "    betas=(0.95, 0.99),\n",
    "    weight_decay=1E-6,\n",
    "    eps=1E-8\n",
    ")"
   ]
  },
  {
   "cell_type": "code",
   "execution_count": 7,
   "metadata": {},
   "outputs": [],
   "source": [
    "lr_scheduler = get_scheduler(\n",
    "    \"cosine\", optimizer=optimizer,\n",
    "    num_warmup_steps=500,\n",
    "    num_training_steps=(\n",
    "        len(dataloader) * 100\n",
    "    ),\n",
    ")"
   ]
  },
  {
   "cell_type": "code",
   "execution_count": 8,
   "metadata": {},
   "outputs": [],
   "source": [
    "model, optimizer, dataloader, lr_scheduler = accelerator.prepare(\n",
    "    model, optimizer, dataloader, lr_scheduler\n",
    ")"
   ]
  },
  {
   "cell_type": "code",
   "execution_count": 9,
   "metadata": {},
   "outputs": [
    {
     "name": "stderr",
     "output_type": "stream",
     "text": [
      "c:\\Users\\kril\\AppData\\Local\\Programs\\Python\\Python310\\lib\\site-packages\\PIL\\Image.py:979: UserWarning: Palette images with Transparency expressed in bytes should be converted to RGBA images\n",
      "  warnings.warn(\n"
     ]
    },
    {
     "name": "stdout",
     "output_type": "stream",
     "text": [
      "Epoch 1 / 100 - Loss: 0.18759840726852417\n"
     ]
    },
    {
     "data": {
      "application/vnd.jupyter.widget-view+json": {
       "model_id": "1850e8394a8e42d9a85f32c365967d39",
       "version_major": 2,
       "version_minor": 0
      },
      "text/plain": [
       "  0%|          | 0/1000 [00:00<?, ?it/s]"
      ]
     },
     "metadata": {},
     "output_type": "display_data"
    },
    {
     "name": "stdout",
     "output_type": "stream",
     "text": [
      "Epoch 2 / 100 - Loss: 0.205866739153862\n",
      "Epoch 3 / 100 - Loss: 0.039883311837911606\n",
      "Epoch 4 / 100 - Loss: 0.011146686971187592\n",
      "Epoch 5 / 100 - Loss: 0.029633190482854843\n",
      "Epoch 6 / 100 - Loss: 0.014035075902938843\n",
      "Epoch 7 / 100 - Loss: 0.0035448407288640738\n",
      "Epoch 8 / 100 - Loss: 0.004128352738916874\n",
      "Epoch 9 / 100 - Loss: 0.0023402124643325806\n",
      "Epoch 10 / 100 - Loss: 0.008877461776137352\n",
      "Epoch 11 / 100 - Loss: 0.008535260334610939\n"
     ]
    },
    {
     "data": {
      "application/vnd.jupyter.widget-view+json": {
       "model_id": "8ce7c6ba3ce340b5b5a6caff1d5c3fbc",
       "version_major": 2,
       "version_minor": 0
      },
      "text/plain": [
       "  0%|          | 0/1000 [00:00<?, ?it/s]"
      ]
     },
     "metadata": {},
     "output_type": "display_data"
    },
    {
     "name": "stdout",
     "output_type": "stream",
     "text": [
      "Epoch 12 / 100 - Loss: 0.05877518281340599\n",
      "Epoch 13 / 100 - Loss: 0.012605486437678337\n",
      "Epoch 14 / 100 - Loss: 0.002799785230308771\n",
      "Epoch 15 / 100 - Loss: 0.012023687362670898\n",
      "Epoch 16 / 100 - Loss: 0.00440285773947835\n",
      "Epoch 17 / 100 - Loss: 0.0023765095975250006\n",
      "Epoch 18 / 100 - Loss: 0.0056413523852825165\n",
      "Epoch 19 / 100 - Loss: 0.0012780504766851664\n",
      "Epoch 20 / 100 - Loss: 0.007354632019996643\n",
      "Epoch 21 / 100 - Loss: 0.012356966733932495\n"
     ]
    },
    {
     "data": {
      "application/vnd.jupyter.widget-view+json": {
       "model_id": "b6728c225cdc45aab9600e6c6d5fca20",
       "version_major": 2,
       "version_minor": 0
      },
      "text/plain": [
       "  0%|          | 0/1000 [00:00<?, ?it/s]"
      ]
     },
     "metadata": {},
     "output_type": "display_data"
    },
    {
     "name": "stdout",
     "output_type": "stream",
     "text": [
      "Epoch 22 / 100 - Loss: 0.02457582950592041\n",
      "Epoch 23 / 100 - Loss: 0.024840451776981354\n",
      "Epoch 24 / 100 - Loss: 0.003758967388421297\n",
      "Epoch 25 / 100 - Loss: 0.0252738855779171\n",
      "Epoch 26 / 100 - Loss: 0.010926840826869011\n",
      "Epoch 27 / 100 - Loss: 0.002087017521262169\n",
      "Epoch 28 / 100 - Loss: 0.004330662544816732\n",
      "Epoch 29 / 100 - Loss: 0.0016544654499739408\n",
      "Epoch 30 / 100 - Loss: 0.005153650883585215\n",
      "Epoch 31 / 100 - Loss: 0.005730435252189636\n"
     ]
    },
    {
     "data": {
      "application/vnd.jupyter.widget-view+json": {
       "model_id": "cd056d21ec7b4d908ebf6b627aeef138",
       "version_major": 2,
       "version_minor": 0
      },
      "text/plain": [
       "  0%|          | 0/1000 [00:00<?, ?it/s]"
      ]
     },
     "metadata": {},
     "output_type": "display_data"
    },
    {
     "name": "stdout",
     "output_type": "stream",
     "text": [
      "Epoch 32 / 100 - Loss: 0.01686091348528862\n",
      "Epoch 33 / 100 - Loss: 0.01568448543548584\n",
      "Epoch 34 / 100 - Loss: 0.001389938173815608\n",
      "Epoch 35 / 100 - Loss: 0.008370171301066875\n",
      "Epoch 36 / 100 - Loss: 0.006108378525823355\n",
      "Epoch 37 / 100 - Loss: 0.002317538484930992\n",
      "Epoch 38 / 100 - Loss: 0.0038189420010894537\n",
      "Epoch 39 / 100 - Loss: 0.0013193362392485142\n",
      "Epoch 40 / 100 - Loss: 0.010236789472401142\n",
      "Epoch 41 / 100 - Loss: 0.006798309739679098\n"
     ]
    },
    {
     "data": {
      "application/vnd.jupyter.widget-view+json": {
       "model_id": "76b147360c9947639bfb50da941c3516",
       "version_major": 2,
       "version_minor": 0
      },
      "text/plain": [
       "  0%|          | 0/1000 [00:00<?, ?it/s]"
      ]
     },
     "metadata": {},
     "output_type": "display_data"
    },
    {
     "name": "stdout",
     "output_type": "stream",
     "text": [
      "Epoch 42 / 100 - Loss: 0.029594821855425835\n",
      "Epoch 43 / 100 - Loss: 0.007751771714538336\n",
      "Epoch 44 / 100 - Loss: 0.0009873182279989123\n",
      "Epoch 45 / 100 - Loss: 0.006975287105888128\n",
      "Epoch 46 / 100 - Loss: 0.0038861501961946487\n",
      "Epoch 47 / 100 - Loss: 0.0014379543717950583\n",
      "Epoch 48 / 100 - Loss: 0.0035689882934093475\n",
      "Epoch 49 / 100 - Loss: 0.0004382262413855642\n",
      "Epoch 50 / 100 - Loss: 0.010590891353785992\n",
      "Epoch 51 / 100 - Loss: 0.006108391098678112\n"
     ]
    },
    {
     "data": {
      "application/vnd.jupyter.widget-view+json": {
       "model_id": "c71e2b46261c4ce592dd8bcda91e11dd",
       "version_major": 2,
       "version_minor": 0
      },
      "text/plain": [
       "  0%|          | 0/1000 [00:00<?, ?it/s]"
      ]
     },
     "metadata": {},
     "output_type": "display_data"
    },
    {
     "name": "stdout",
     "output_type": "stream",
     "text": [
      "Epoch 52 / 100 - Loss: 0.03222649171948433\n",
      "Epoch 53 / 100 - Loss: 0.007497613783925772\n",
      "Epoch 54 / 100 - Loss: 0.0013260047417134047\n",
      "Epoch 55 / 100 - Loss: 0.011232979595661163\n",
      "Epoch 56 / 100 - Loss: 0.004746669437736273\n",
      "Epoch 57 / 100 - Loss: 0.0008758722105994821\n",
      "Epoch 58 / 100 - Loss: 0.0021633291617035866\n",
      "Epoch 59 / 100 - Loss: 0.0009512423421256244\n",
      "Epoch 60 / 100 - Loss: 0.0030145791824907064\n",
      "Epoch 61 / 100 - Loss: 0.005430744495242834\n"
     ]
    },
    {
     "data": {
      "application/vnd.jupyter.widget-view+json": {
       "model_id": "476af321737d451abfb37c53b8a6caaa",
       "version_major": 2,
       "version_minor": 0
      },
      "text/plain": [
       "  0%|          | 0/1000 [00:00<?, ?it/s]"
      ]
     },
     "metadata": {},
     "output_type": "display_data"
    },
    {
     "name": "stdout",
     "output_type": "stream",
     "text": [
      "Epoch 62 / 100 - Loss: 0.02029474824666977\n",
      "Epoch 63 / 100 - Loss: 0.01170387677848339\n",
      "Epoch 64 / 100 - Loss: 0.0008576257387176156\n",
      "Epoch 65 / 100 - Loss: 0.0131174735724926\n",
      "Epoch 66 / 100 - Loss: 0.007879412733018398\n",
      "Epoch 67 / 100 - Loss: 0.0014958189567551017\n",
      "Epoch 68 / 100 - Loss: 0.0020121994893997908\n",
      "Epoch 69 / 100 - Loss: 0.0004982231184840202\n",
      "Epoch 70 / 100 - Loss: 0.004348783753812313\n",
      "Epoch 71 / 100 - Loss: 0.020378567278385162\n"
     ]
    },
    {
     "data": {
      "application/vnd.jupyter.widget-view+json": {
       "model_id": "138e278882724a53b6e48dc3c8260ec2",
       "version_major": 2,
       "version_minor": 0
      },
      "text/plain": [
       "  0%|          | 0/1000 [00:00<?, ?it/s]"
      ]
     },
     "metadata": {},
     "output_type": "display_data"
    },
    {
     "name": "stdout",
     "output_type": "stream",
     "text": [
      "Epoch 72 / 100 - Loss: 0.019471127539873123\n",
      "Epoch 73 / 100 - Loss: 0.010743064805865288\n",
      "Epoch 74 / 100 - Loss: 0.0008399360813200474\n",
      "Epoch 75 / 100 - Loss: 0.011767745018005371\n",
      "Epoch 76 / 100 - Loss: 0.0034117549657821655\n",
      "Epoch 77 / 100 - Loss: 0.0016075018793344498\n",
      "Epoch 78 / 100 - Loss: 0.001964941853657365\n",
      "Epoch 79 / 100 - Loss: 0.0007325410842895508\n",
      "Epoch 80 / 100 - Loss: 0.003888264298439026\n",
      "Epoch 81 / 100 - Loss: 0.0139863146468997\n"
     ]
    },
    {
     "data": {
      "application/vnd.jupyter.widget-view+json": {
       "model_id": "8f423d3aadde45659bcf3c23a54a0e17",
       "version_major": 2,
       "version_minor": 0
      },
      "text/plain": [
       "  0%|          | 0/1000 [00:00<?, ?it/s]"
      ]
     },
     "metadata": {},
     "output_type": "display_data"
    },
    {
     "name": "stdout",
     "output_type": "stream",
     "text": [
      "Epoch 82 / 100 - Loss: 0.00900292582809925\n",
      "Epoch 83 / 100 - Loss: 0.0054556829854846\n",
      "Epoch 84 / 100 - Loss: 0.0007940351497381926\n",
      "Epoch 85 / 100 - Loss: 0.006530681159347296\n",
      "Epoch 86 / 100 - Loss: 0.0047417595051229\n",
      "Epoch 87 / 100 - Loss: 0.0013857567682862282\n",
      "Epoch 88 / 100 - Loss: 0.001885767444036901\n",
      "Epoch 89 / 100 - Loss: 0.0005598432617262006\n",
      "Epoch 90 / 100 - Loss: 0.008582176640629768\n",
      "Epoch 91 / 100 - Loss: 0.005008901469409466\n"
     ]
    },
    {
     "data": {
      "application/vnd.jupyter.widget-view+json": {
       "model_id": "5312603a492146208f94fa4b8ca5e159",
       "version_major": 2,
       "version_minor": 0
      },
      "text/plain": [
       "  0%|          | 0/1000 [00:00<?, ?it/s]"
      ]
     },
     "metadata": {},
     "output_type": "display_data"
    },
    {
     "name": "stdout",
     "output_type": "stream",
     "text": [
      "Epoch 92 / 100 - Loss: 0.018885962665081024\n",
      "Epoch 93 / 100 - Loss: 0.008572029881179333\n",
      "Epoch 94 / 100 - Loss: 0.0008478917879983783\n",
      "Epoch 95 / 100 - Loss: 0.008590107783675194\n",
      "Epoch 96 / 100 - Loss: 0.005641000345349312\n",
      "Epoch 97 / 100 - Loss: 0.0006619002670049667\n",
      "Epoch 98 / 100 - Loss: 0.004685807507485151\n",
      "Epoch 99 / 100 - Loss: 0.00048288164543919265\n",
      "Epoch 100 / 100 - Loss: 0.0025606052950024605\n"
     ]
    },
    {
     "data": {
      "application/vnd.jupyter.widget-view+json": {
       "model_id": "44fecc3fbcbd4a31a83f669c08e984e6",
       "version_major": 2,
       "version_minor": 0
      },
      "text/plain": [
       "  0%|          | 0/1000 [00:00<?, ?it/s]"
      ]
     },
     "metadata": {},
     "output_type": "display_data"
    }
   ],
   "source": [
    "for epoch in range(100):\n",
    "    model.train()\n",
    "    for step, batch in enumerate(dataloader):\n",
    "        clean_images = batch[0].to(\"cuda\")\n",
    "        noise = torch.randn(clean_images.shape).to(clean_images.device)\n",
    "        timesteps = torch.randint(\n",
    "            0, noise_scheduler.config.num_train_timesteps,\n",
    "            (clean_images.shape[0],), device=clean_images.device\n",
    "        ).long()\n",
    "        \n",
    "        # Add noise to the clean images according to the noise magnitude\n",
    "        # at each timestep (this is the forward diffusion process)\n",
    "        noisy_images = noise_scheduler.add_noise(\n",
    "            clean_images, noise, timesteps\n",
    "        )\n",
    "\n",
    "        with accelerator.accumulate(model):\n",
    "            # Predict the noise residual\n",
    "            noise_pred = model(noisy_images, timesteps).sample\n",
    "            loss = F.mse_loss(noise_pred, noise)\n",
    "            accelerator.backward(loss)\n",
    "\n",
    "            if accelerator.sync_gradients:\n",
    "                accelerator.clip_grad_norm_(model.parameters(), 1.0)\n",
    "            optimizer.step()\n",
    "            lr_scheduler.step()\n",
    "            optimizer.zero_grad()\n",
    "    print(f\"Epoch {epoch+1} / 100 - Loss: {loss.detach().item()}\")\n",
    "\n",
    "    # Using  Will stop the execution of the current process\n",
    "    # until every other process has reached that point.\n",
    "    # This does nothing when running on a single process.\n",
    "    accelerator.wait_for_everyone()\n",
    "\n",
    "    \n",
    "    # Generate sample images for visual inspection\n",
    "    if accelerator.is_main_process:\n",
    "        if epoch % 10 == 0 or epoch == 100 - 1:\n",
    "            pipeline = DDPMPipeline(\n",
    "                unet=accelerator.unwrap_model(model),\n",
    "                scheduler=noise_scheduler,\n",
    "            )\n",
    "\n",
    "            generator = torch.manual_seed(0)\n",
    "            # run pipeline in inference (sample random noise and denoise)\n",
    "            images = pipeline(\n",
    "                generator=generator,\n",
    "                batch_size=64,\n",
    "                output_type=\"numpy\"\n",
    "            ).images\n",
    "\n",
    "            # denormalize the images and save to wandb\n",
    "            processed_images = torch.tensor(images).transpose(1, 3).transpose(2, 3)\n",
    "            save_image(processed_images, f\"./hf_epoch-{epoch+1}.png\")\n",
    "            pipeline.save_pretrained(\"hf_poke.pth\")\n",
    "\n",
    "    accelerator.wait_for_everyone()\n",
    "\n",
    "accelerator.end_training()"
   ]
  }
 ],
 "metadata": {
  "kernelspec": {
   "display_name": "Python 3",
   "language": "python",
   "name": "python3"
  },
  "language_info": {
   "codemirror_mode": {
    "name": "ipython",
    "version": 3
   },
   "file_extension": ".py",
   "mimetype": "text/x-python",
   "name": "python",
   "nbconvert_exporter": "python",
   "pygments_lexer": "ipython3",
   "version": "3.10.8"
  }
 },
 "nbformat": 4,
 "nbformat_minor": 2
}
